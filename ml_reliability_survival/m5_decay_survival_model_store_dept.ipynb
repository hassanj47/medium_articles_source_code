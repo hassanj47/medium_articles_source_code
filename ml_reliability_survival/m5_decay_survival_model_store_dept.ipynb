{
  "nbformat": 4,
  "nbformat_minor": 0,
  "metadata": {
    "colab": {
      "provenance": [],
      "collapsed_sections": [
        "PxF5BKRx8DsQ"
      ]
    },
    "kernelspec": {
      "name": "python3",
      "display_name": "Python 3"
    },
    "language_info": {
      "name": "python"
    }
  },
  "cells": [
    {
      "cell_type": "markdown",
      "source": [
        "### Imports"
      ],
      "metadata": {
        "id": "2UAiLN_H7k5C"
      }
    },
    {
      "cell_type": "code",
      "source": [
        "%pip install prophet\n",
        "%pip install lifelines"
      ],
      "metadata": {
        "colab": {
          "base_uri": "https://localhost:8080/"
        },
        "id": "PY8yIkYv7z62",
        "outputId": "4e384c1c-122f-4865-bb64-fcabfb3dd6df"
      },
      "execution_count": null,
      "outputs": [
        {
          "output_type": "stream",
          "name": "stdout",
          "text": [
            "Looking in indexes: https://pypi.org/simple, https://us-python.pkg.dev/colab-wheels/public/simple/\n",
            "Requirement already satisfied: prophet in /usr/local/lib/python3.7/dist-packages (1.0.1)\n",
            "Requirement already satisfied: pandas>=1.0.4 in /usr/local/lib/python3.7/dist-packages (from prophet) (1.3.5)\n",
            "Requirement already satisfied: pystan~=2.19.1.1 in /usr/local/lib/python3.7/dist-packages (from prophet) (2.19.1.1)\n",
            "Requirement already satisfied: cmdstanpy==0.9.68 in /usr/local/lib/python3.7/dist-packages (from prophet) (0.9.68)\n",
            "Requirement already satisfied: LunarCalendar>=0.0.9 in /usr/local/lib/python3.7/dist-packages (from prophet) (0.0.9)\n",
            "Requirement already satisfied: Cython>=0.22 in /usr/local/lib/python3.7/dist-packages (from prophet) (0.29.30)\n",
            "Requirement already satisfied: setuptools-git>=1.2 in /usr/local/lib/python3.7/dist-packages (from prophet) (1.2)\n",
            "Requirement already satisfied: holidays>=0.10.2 in /usr/local/lib/python3.7/dist-packages (from prophet) (0.10.5.2)\n",
            "Requirement already satisfied: tqdm>=4.36.1 in /usr/local/lib/python3.7/dist-packages (from prophet) (4.64.0)\n",
            "Requirement already satisfied: convertdate>=2.1.2 in /usr/local/lib/python3.7/dist-packages (from prophet) (2.4.0)\n",
            "Requirement already satisfied: numpy>=1.15.4 in /usr/local/lib/python3.7/dist-packages (from prophet) (1.21.6)\n",
            "Requirement already satisfied: python-dateutil>=2.8.0 in /usr/local/lib/python3.7/dist-packages (from prophet) (2.8.2)\n",
            "Requirement already satisfied: matplotlib>=2.0.0 in /usr/local/lib/python3.7/dist-packages (from prophet) (3.2.2)\n",
            "Requirement already satisfied: ujson in /usr/local/lib/python3.7/dist-packages (from cmdstanpy==0.9.68->prophet) (5.3.0)\n",
            "Requirement already satisfied: pymeeus<=1,>=0.3.13 in /usr/local/lib/python3.7/dist-packages (from convertdate>=2.1.2->prophet) (0.5.11)\n",
            "Requirement already satisfied: six in /usr/local/lib/python3.7/dist-packages (from holidays>=0.10.2->prophet) (1.15.0)\n",
            "Requirement already satisfied: hijri-converter in /usr/local/lib/python3.7/dist-packages (from holidays>=0.10.2->prophet) (2.2.4)\n",
            "Requirement already satisfied: korean-lunar-calendar in /usr/local/lib/python3.7/dist-packages (from holidays>=0.10.2->prophet) (0.2.1)\n",
            "Requirement already satisfied: ephem>=3.7.5.3 in /usr/local/lib/python3.7/dist-packages (from LunarCalendar>=0.0.9->prophet) (4.1.3)\n",
            "Requirement already satisfied: pytz in /usr/local/lib/python3.7/dist-packages (from LunarCalendar>=0.0.9->prophet) (2022.1)\n",
            "Requirement already satisfied: pyparsing!=2.0.4,!=2.1.2,!=2.1.6,>=2.0.1 in /usr/local/lib/python3.7/dist-packages (from matplotlib>=2.0.0->prophet) (3.0.9)\n",
            "Requirement already satisfied: cycler>=0.10 in /usr/local/lib/python3.7/dist-packages (from matplotlib>=2.0.0->prophet) (0.11.0)\n",
            "Requirement already satisfied: kiwisolver>=1.0.1 in /usr/local/lib/python3.7/dist-packages (from matplotlib>=2.0.0->prophet) (1.4.2)\n",
            "Requirement already satisfied: typing-extensions in /usr/local/lib/python3.7/dist-packages (from kiwisolver>=1.0.1->matplotlib>=2.0.0->prophet) (4.2.0)\n",
            "Looking in indexes: https://pypi.org/simple, https://us-python.pkg.dev/colab-wheels/public/simple/\n",
            "Requirement already satisfied: lifelines in /usr/local/lib/python3.7/dist-packages (0.27.0)\n",
            "Requirement already satisfied: autograd>=1.3 in /usr/local/lib/python3.7/dist-packages (from lifelines) (1.4)\n",
            "Requirement already satisfied: numpy>=1.14.0 in /usr/local/lib/python3.7/dist-packages (from lifelines) (1.21.6)\n",
            "Requirement already satisfied: autograd-gamma>=0.3 in /usr/local/lib/python3.7/dist-packages (from lifelines) (0.5.0)\n",
            "Requirement already satisfied: scipy>=1.2.0 in /usr/local/lib/python3.7/dist-packages (from lifelines) (1.7.3)\n",
            "Requirement already satisfied: matplotlib>=3.0 in /usr/local/lib/python3.7/dist-packages (from lifelines) (3.2.2)\n",
            "Requirement already satisfied: pandas>=1.0.0 in /usr/local/lib/python3.7/dist-packages (from lifelines) (1.3.5)\n",
            "Requirement already satisfied: formulaic>=0.2.2 in /usr/local/lib/python3.7/dist-packages (from lifelines) (0.3.4)\n",
            "Requirement already satisfied: future>=0.15.2 in /usr/local/lib/python3.7/dist-packages (from autograd>=1.3->lifelines) (0.16.0)\n",
            "Requirement already satisfied: astor>=0.8 in /usr/local/lib/python3.7/dist-packages (from formulaic>=0.2.2->lifelines) (0.8.1)\n",
            "Requirement already satisfied: interface-meta<2.0.0,>=1.2.0 in /usr/local/lib/python3.7/dist-packages (from formulaic>=0.2.2->lifelines) (1.3.0)\n",
            "Requirement already satisfied: wrapt>=1.0 in /usr/local/lib/python3.7/dist-packages (from formulaic>=0.2.2->lifelines) (1.14.1)\n",
            "Requirement already satisfied: pyparsing!=2.0.4,!=2.1.2,!=2.1.6,>=2.0.1 in /usr/local/lib/python3.7/dist-packages (from matplotlib>=3.0->lifelines) (3.0.9)\n",
            "Requirement already satisfied: python-dateutil>=2.1 in /usr/local/lib/python3.7/dist-packages (from matplotlib>=3.0->lifelines) (2.8.2)\n",
            "Requirement already satisfied: cycler>=0.10 in /usr/local/lib/python3.7/dist-packages (from matplotlib>=3.0->lifelines) (0.11.0)\n",
            "Requirement already satisfied: kiwisolver>=1.0.1 in /usr/local/lib/python3.7/dist-packages (from matplotlib>=3.0->lifelines) (1.4.2)\n",
            "Requirement already satisfied: typing-extensions in /usr/local/lib/python3.7/dist-packages (from kiwisolver>=1.0.1->matplotlib>=3.0->lifelines) (4.2.0)\n",
            "Requirement already satisfied: pytz>=2017.3 in /usr/local/lib/python3.7/dist-packages (from pandas>=1.0.0->lifelines) (2022.1)\n",
            "Requirement already satisfied: six>=1.5 in /usr/local/lib/python3.7/dist-packages (from python-dateutil>=2.1->matplotlib>=3.0->lifelines) (1.15.0)\n"
          ]
        }
      ]
    },
    {
      "cell_type": "code",
      "execution_count": null,
      "metadata": {
        "id": "fufBWXEXJRmq"
      },
      "outputs": [],
      "source": [
        "import numpy as np\n",
        "import pandas as pd\n",
        "from matplotlib import pyplot as plt\n",
        "from prophet import Prophet\n",
        "from lifelines import KaplanMeierFitter"
      ]
    },
    {
      "cell_type": "markdown",
      "source": [
        "#### 1. Config"
      ],
      "metadata": {
        "id": "fpkyZo6D4EtK"
      }
    },
    {
      "cell_type": "code",
      "source": [
        "# CONFIG\n",
        "TRAIN_END = 'd_1913'\n",
        "\n",
        "DEPTS = ['HOBBIES_1', 'HOBBIES_2', 'FOODS_1',\n",
        "       'FOODS_2', 'FOODS_3']\n",
        "\n",
        "STORES = ['CA_1' ,'CA_2', 'CA_3', 'CA_4', 'TX_1', 'TX_2', 'TX_3', 'WI_1',\n",
        "        'WI_2', 'WI_3']\n",
        "\n",
        "THRESH = 10 # MAPE threshold\n",
        "\n",
        "TEST_DAYS = 365\n",
        "\n",
        "FORECAST_DAYS = 365 \n",
        "\n",
        "WIN_SIZE_WEEKS = 4\n",
        "\n",
        "STUDY_START_WEEKS = WIN_SIZE_WEEKS\n",
        "\n",
        "STUDY_END_WEEKS = 26\n",
        "\n",
        "SURVIVAL_PERCENTILE = 0.5"
      ],
      "metadata": {
        "id": "i7DUGDbG99t8"
      },
      "execution_count": null,
      "outputs": []
    },
    {
      "cell_type": "markdown",
      "source": [],
      "metadata": {
        "id": "qADsBELEUW5_"
      }
    },
    {
      "cell_type": "markdown",
      "source": [
        "###1. Data Preprocessing"
      ],
      "metadata": {
        "id": "PxF5BKRx8DsQ"
      }
    },
    {
      "cell_type": "code",
      "source": [
        "sales = pd.read_csv('/content/drive/MyDrive/Colab Notebooks/Datasets/M5/sales_train_evaluation.csv')"
      ],
      "metadata": {
        "id": "b9ZzbZ6J5jNF"
      },
      "execution_count": null,
      "outputs": []
    },
    {
      "cell_type": "code",
      "source": [
        "sales.head()"
      ],
      "metadata": {
        "colab": {
          "base_uri": "https://localhost:8080/",
          "height": 300
        },
        "id": "-PvdWkefHbBS",
        "outputId": "8e97b8e4-1d99-41a4-c7d2-2dd961a40ab6"
      },
      "execution_count": null,
      "outputs": [
        {
          "output_type": "execute_result",
          "data": {
            "text/plain": [
              "                              id        item_id    dept_id   cat_id store_id  \\\n",
              "0  HOBBIES_1_001_CA_1_evaluation  HOBBIES_1_001  HOBBIES_1  HOBBIES     CA_1   \n",
              "1  HOBBIES_1_002_CA_1_evaluation  HOBBIES_1_002  HOBBIES_1  HOBBIES     CA_1   \n",
              "2  HOBBIES_1_003_CA_1_evaluation  HOBBIES_1_003  HOBBIES_1  HOBBIES     CA_1   \n",
              "3  HOBBIES_1_004_CA_1_evaluation  HOBBIES_1_004  HOBBIES_1  HOBBIES     CA_1   \n",
              "4  HOBBIES_1_005_CA_1_evaluation  HOBBIES_1_005  HOBBIES_1  HOBBIES     CA_1   \n",
              "\n",
              "  state_id  d_1  d_2  d_3  d_4  ...  d_1932  d_1933  d_1934  d_1935  d_1936  \\\n",
              "0       CA    0    0    0    0  ...       2       4       0       0       0   \n",
              "1       CA    0    0    0    0  ...       0       1       2       1       1   \n",
              "2       CA    0    0    0    0  ...       1       0       2       0       0   \n",
              "3       CA    0    0    0    0  ...       1       1       0       4       0   \n",
              "4       CA    0    0    0    0  ...       0       0       0       2       1   \n",
              "\n",
              "   d_1937  d_1938  d_1939  d_1940  d_1941  \n",
              "0       0       3       3       0       1  \n",
              "1       0       0       0       0       0  \n",
              "2       0       2       3       0       1  \n",
              "3       1       3       0       2       6  \n",
              "4       0       0       2       1       0  \n",
              "\n",
              "[5 rows x 1947 columns]"
            ],
            "text/html": [
              "\n",
              "  <div id=\"df-7165af30-5483-4acf-89be-5b56103b3b12\">\n",
              "    <div class=\"colab-df-container\">\n",
              "      <div>\n",
              "<style scoped>\n",
              "    .dataframe tbody tr th:only-of-type {\n",
              "        vertical-align: middle;\n",
              "    }\n",
              "\n",
              "    .dataframe tbody tr th {\n",
              "        vertical-align: top;\n",
              "    }\n",
              "\n",
              "    .dataframe thead th {\n",
              "        text-align: right;\n",
              "    }\n",
              "</style>\n",
              "<table border=\"1\" class=\"dataframe\">\n",
              "  <thead>\n",
              "    <tr style=\"text-align: right;\">\n",
              "      <th></th>\n",
              "      <th>id</th>\n",
              "      <th>item_id</th>\n",
              "      <th>dept_id</th>\n",
              "      <th>cat_id</th>\n",
              "      <th>store_id</th>\n",
              "      <th>state_id</th>\n",
              "      <th>d_1</th>\n",
              "      <th>d_2</th>\n",
              "      <th>d_3</th>\n",
              "      <th>d_4</th>\n",
              "      <th>...</th>\n",
              "      <th>d_1932</th>\n",
              "      <th>d_1933</th>\n",
              "      <th>d_1934</th>\n",
              "      <th>d_1935</th>\n",
              "      <th>d_1936</th>\n",
              "      <th>d_1937</th>\n",
              "      <th>d_1938</th>\n",
              "      <th>d_1939</th>\n",
              "      <th>d_1940</th>\n",
              "      <th>d_1941</th>\n",
              "    </tr>\n",
              "  </thead>\n",
              "  <tbody>\n",
              "    <tr>\n",
              "      <th>0</th>\n",
              "      <td>HOBBIES_1_001_CA_1_evaluation</td>\n",
              "      <td>HOBBIES_1_001</td>\n",
              "      <td>HOBBIES_1</td>\n",
              "      <td>HOBBIES</td>\n",
              "      <td>CA_1</td>\n",
              "      <td>CA</td>\n",
              "      <td>0</td>\n",
              "      <td>0</td>\n",
              "      <td>0</td>\n",
              "      <td>0</td>\n",
              "      <td>...</td>\n",
              "      <td>2</td>\n",
              "      <td>4</td>\n",
              "      <td>0</td>\n",
              "      <td>0</td>\n",
              "      <td>0</td>\n",
              "      <td>0</td>\n",
              "      <td>3</td>\n",
              "      <td>3</td>\n",
              "      <td>0</td>\n",
              "      <td>1</td>\n",
              "    </tr>\n",
              "    <tr>\n",
              "      <th>1</th>\n",
              "      <td>HOBBIES_1_002_CA_1_evaluation</td>\n",
              "      <td>HOBBIES_1_002</td>\n",
              "      <td>HOBBIES_1</td>\n",
              "      <td>HOBBIES</td>\n",
              "      <td>CA_1</td>\n",
              "      <td>CA</td>\n",
              "      <td>0</td>\n",
              "      <td>0</td>\n",
              "      <td>0</td>\n",
              "      <td>0</td>\n",
              "      <td>...</td>\n",
              "      <td>0</td>\n",
              "      <td>1</td>\n",
              "      <td>2</td>\n",
              "      <td>1</td>\n",
              "      <td>1</td>\n",
              "      <td>0</td>\n",
              "      <td>0</td>\n",
              "      <td>0</td>\n",
              "      <td>0</td>\n",
              "      <td>0</td>\n",
              "    </tr>\n",
              "    <tr>\n",
              "      <th>2</th>\n",
              "      <td>HOBBIES_1_003_CA_1_evaluation</td>\n",
              "      <td>HOBBIES_1_003</td>\n",
              "      <td>HOBBIES_1</td>\n",
              "      <td>HOBBIES</td>\n",
              "      <td>CA_1</td>\n",
              "      <td>CA</td>\n",
              "      <td>0</td>\n",
              "      <td>0</td>\n",
              "      <td>0</td>\n",
              "      <td>0</td>\n",
              "      <td>...</td>\n",
              "      <td>1</td>\n",
              "      <td>0</td>\n",
              "      <td>2</td>\n",
              "      <td>0</td>\n",
              "      <td>0</td>\n",
              "      <td>0</td>\n",
              "      <td>2</td>\n",
              "      <td>3</td>\n",
              "      <td>0</td>\n",
              "      <td>1</td>\n",
              "    </tr>\n",
              "    <tr>\n",
              "      <th>3</th>\n",
              "      <td>HOBBIES_1_004_CA_1_evaluation</td>\n",
              "      <td>HOBBIES_1_004</td>\n",
              "      <td>HOBBIES_1</td>\n",
              "      <td>HOBBIES</td>\n",
              "      <td>CA_1</td>\n",
              "      <td>CA</td>\n",
              "      <td>0</td>\n",
              "      <td>0</td>\n",
              "      <td>0</td>\n",
              "      <td>0</td>\n",
              "      <td>...</td>\n",
              "      <td>1</td>\n",
              "      <td>1</td>\n",
              "      <td>0</td>\n",
              "      <td>4</td>\n",
              "      <td>0</td>\n",
              "      <td>1</td>\n",
              "      <td>3</td>\n",
              "      <td>0</td>\n",
              "      <td>2</td>\n",
              "      <td>6</td>\n",
              "    </tr>\n",
              "    <tr>\n",
              "      <th>4</th>\n",
              "      <td>HOBBIES_1_005_CA_1_evaluation</td>\n",
              "      <td>HOBBIES_1_005</td>\n",
              "      <td>HOBBIES_1</td>\n",
              "      <td>HOBBIES</td>\n",
              "      <td>CA_1</td>\n",
              "      <td>CA</td>\n",
              "      <td>0</td>\n",
              "      <td>0</td>\n",
              "      <td>0</td>\n",
              "      <td>0</td>\n",
              "      <td>...</td>\n",
              "      <td>0</td>\n",
              "      <td>0</td>\n",
              "      <td>0</td>\n",
              "      <td>2</td>\n",
              "      <td>1</td>\n",
              "      <td>0</td>\n",
              "      <td>0</td>\n",
              "      <td>2</td>\n",
              "      <td>1</td>\n",
              "      <td>0</td>\n",
              "    </tr>\n",
              "  </tbody>\n",
              "</table>\n",
              "<p>5 rows × 1947 columns</p>\n",
              "</div>\n",
              "      <button class=\"colab-df-convert\" onclick=\"convertToInteractive('df-7165af30-5483-4acf-89be-5b56103b3b12')\"\n",
              "              title=\"Convert this dataframe to an interactive table.\"\n",
              "              style=\"display:none;\">\n",
              "        \n",
              "  <svg xmlns=\"http://www.w3.org/2000/svg\" height=\"24px\"viewBox=\"0 0 24 24\"\n",
              "       width=\"24px\">\n",
              "    <path d=\"M0 0h24v24H0V0z\" fill=\"none\"/>\n",
              "    <path d=\"M18.56 5.44l.94 2.06.94-2.06 2.06-.94-2.06-.94-.94-2.06-.94 2.06-2.06.94zm-11 1L8.5 8.5l.94-2.06 2.06-.94-2.06-.94L8.5 2.5l-.94 2.06-2.06.94zm10 10l.94 2.06.94-2.06 2.06-.94-2.06-.94-.94-2.06-.94 2.06-2.06.94z\"/><path d=\"M17.41 7.96l-1.37-1.37c-.4-.4-.92-.59-1.43-.59-.52 0-1.04.2-1.43.59L10.3 9.45l-7.72 7.72c-.78.78-.78 2.05 0 2.83L4 21.41c.39.39.9.59 1.41.59.51 0 1.02-.2 1.41-.59l7.78-7.78 2.81-2.81c.8-.78.8-2.07 0-2.86zM5.41 20L4 18.59l7.72-7.72 1.47 1.35L5.41 20z\"/>\n",
              "  </svg>\n",
              "      </button>\n",
              "      \n",
              "  <style>\n",
              "    .colab-df-container {\n",
              "      display:flex;\n",
              "      flex-wrap:wrap;\n",
              "      gap: 12px;\n",
              "    }\n",
              "\n",
              "    .colab-df-convert {\n",
              "      background-color: #E8F0FE;\n",
              "      border: none;\n",
              "      border-radius: 50%;\n",
              "      cursor: pointer;\n",
              "      display: none;\n",
              "      fill: #1967D2;\n",
              "      height: 32px;\n",
              "      padding: 0 0 0 0;\n",
              "      width: 32px;\n",
              "    }\n",
              "\n",
              "    .colab-df-convert:hover {\n",
              "      background-color: #E2EBFA;\n",
              "      box-shadow: 0px 1px 2px rgba(60, 64, 67, 0.3), 0px 1px 3px 1px rgba(60, 64, 67, 0.15);\n",
              "      fill: #174EA6;\n",
              "    }\n",
              "\n",
              "    [theme=dark] .colab-df-convert {\n",
              "      background-color: #3B4455;\n",
              "      fill: #D2E3FC;\n",
              "    }\n",
              "\n",
              "    [theme=dark] .colab-df-convert:hover {\n",
              "      background-color: #434B5C;\n",
              "      box-shadow: 0px 1px 3px 1px rgba(0, 0, 0, 0.15);\n",
              "      filter: drop-shadow(0px 1px 2px rgba(0, 0, 0, 0.3));\n",
              "      fill: #FFFFFF;\n",
              "    }\n",
              "  </style>\n",
              "\n",
              "      <script>\n",
              "        const buttonEl =\n",
              "          document.querySelector('#df-7165af30-5483-4acf-89be-5b56103b3b12 button.colab-df-convert');\n",
              "        buttonEl.style.display =\n",
              "          google.colab.kernel.accessAllowed ? 'block' : 'none';\n",
              "\n",
              "        async function convertToInteractive(key) {\n",
              "          const element = document.querySelector('#df-7165af30-5483-4acf-89be-5b56103b3b12');\n",
              "          const dataTable =\n",
              "            await google.colab.kernel.invokeFunction('convertToInteractive',\n",
              "                                                     [key], {});\n",
              "          if (!dataTable) return;\n",
              "\n",
              "          const docLinkHtml = 'Like what you see? Visit the ' +\n",
              "            '<a target=\"_blank\" href=https://colab.research.google.com/notebooks/data_table.ipynb>data table notebook</a>'\n",
              "            + ' to learn more about interactive tables.';\n",
              "          element.innerHTML = '';\n",
              "          dataTable['output_type'] = 'display_data';\n",
              "          await google.colab.output.renderOutput(dataTable, element);\n",
              "          const docLink = document.createElement('div');\n",
              "          docLink.innerHTML = docLinkHtml;\n",
              "          element.appendChild(docLink);\n",
              "        }\n",
              "      </script>\n",
              "    </div>\n",
              "  </div>\n",
              "  "
            ]
          },
          "metadata": {},
          "execution_count": 30
        }
      ]
    },
    {
      "cell_type": "code",
      "source": [
        "sales.head().to_csv('M5_sales_head.csv')"
      ],
      "metadata": {
        "id": "thF-xs-csfbt"
      },
      "execution_count": null,
      "outputs": []
    },
    {
      "cell_type": "code",
      "source": [
        "sales.dept_id.unique()"
      ],
      "metadata": {
        "colab": {
          "base_uri": "https://localhost:8080/"
        },
        "id": "n8k108Yc89VS",
        "outputId": "8304fc4b-a1a2-498f-bf59-97f9a0d70db5"
      },
      "execution_count": null,
      "outputs": [
        {
          "output_type": "execute_result",
          "data": {
            "text/plain": [
              "array(['HOBBIES_1', 'HOBBIES_2', 'HOUSEHOLD_1', 'HOUSEHOLD_2', 'FOODS_1',\n",
              "       'FOODS_2', 'FOODS_3'], dtype=object)"
            ]
          },
          "metadata": {},
          "execution_count": 32
        }
      ]
    },
    {
      "cell_type": "code",
      "source": [
        "# Filtering the departments in config\n",
        "sales = sales[sales.dept_id.isin(DEPTS)]"
      ],
      "metadata": {
        "id": "-VVNHWu79B59"
      },
      "execution_count": null,
      "outputs": []
    },
    {
      "cell_type": "code",
      "source": [
        "# sorting sales\n",
        "sales = sales.sort_values(by=['item_id', \t'dept_id', \t'cat_id', \t'store_id',\n",
        "                              'state_id'])"
      ],
      "metadata": {
        "id": "vpA4mJN852uP"
      },
      "execution_count": null,
      "outputs": []
    },
    {
      "cell_type": "code",
      "source": [
        "# melting sales columns into one column\n",
        "index_columns = ['id','item_id','dept_id','cat_id','store_id','state_id']\n",
        "sales = pd.melt(sales, \n",
        "                  id_vars = index_columns, \n",
        "                  var_name = 'd', \n",
        "                  value_name = 'sales')"
      ],
      "metadata": {
        "id": "8mgVUGVO6F8T"
      },
      "execution_count": null,
      "outputs": []
    },
    {
      "cell_type": "code",
      "source": [
        "# dropping unnecessary columns\n",
        "sales = sales.drop(['cat_id','state_id','id'], axis=1)"
      ],
      "metadata": {
        "id": "vEI4ZdzO9mWp"
      },
      "execution_count": null,
      "outputs": []
    },
    {
      "cell_type": "code",
      "source": [
        "# rolling up item level data on store level\n",
        "sales = sales.groupby(['dept_id','store_id','d']).agg({'sales':np.sum})\\\n",
        ".reset_index()"
      ],
      "metadata": {
        "id": "EOFH24Ij6mNu"
      },
      "execution_count": null,
      "outputs": []
    },
    {
      "cell_type": "code",
      "source": [
        "# converting column 'd'  to int type for sorting\n",
        "sales['d'] = [val.replace('d_','') for val in sales.d]\n",
        "sales['d'] = pd.to_numeric(sales.d)\n",
        "sales = sales.sort_values(by=['dept_id','store_id','d'], ignore_index=True)"
      ],
      "metadata": {
        "id": "Fwx7yzNoBKQR"
      },
      "execution_count": null,
      "outputs": []
    },
    {
      "cell_type": "code",
      "source": [
        "# select stores in config\n",
        "stores = sales[sales.store_id.isin(STORES)]"
      ],
      "metadata": {
        "id": "4hr1Qv9pLcdk"
      },
      "execution_count": null,
      "outputs": []
    },
    {
      "cell_type": "markdown",
      "source": [
        "### 3. Utilities for Survival Analysis"
      ],
      "metadata": {
        "id": "fMhXOGbPfLhb"
      }
    },
    {
      "cell_type": "code",
      "source": [
        "def survival_mape_exp(df, win_size):\n",
        "  '''Calculate expanding window mape for survival analysis.'''\n",
        "  df['ape'] = np.abs((df['yhat'] - df['y'])/df['y'])*100\n",
        "  df['exp_mape'] = df.ape.expanding(win_size).mean()\n",
        "  df['survival_metric'] = df['exp_mape']\n",
        "  return df\n",
        "\n",
        "\n",
        "def survival_events(results):\n",
        "  '''Generate events and censors for survival analysis.'''\n",
        "  results = results[(results.index >= STUDY_START_WEEKS) & \\\n",
        "                    (results.index < STUDY_END_WEEKS)]\n",
        "  thresh_res = results[results['survival_metric'] >= THRESH]\n",
        "  \n",
        "  # if some results are above threshold\n",
        "  if len(thresh_res):\n",
        "\n",
        "    # if all results are above thresh - this could be considered\n",
        "    # as a case of left censorship - in our case we start evaluating\n",
        "    # the model at STUDY_START_WEEKS and for this case it makes sense \n",
        "    # to force right censorship \n",
        "    if len(thresh_res) == len(results):\n",
        "      thresh_week = STUDY_START_WEEKS\n",
        "    else:\n",
        "      thresh_week = thresh_res.index[0] + 1\n",
        "\n",
        "    event = 1\n",
        "\n",
        "  else:\n",
        "    # event does not occur till the end of study\n",
        "    thresh_week = STUDY_END_WEEKS\n",
        "    event = 0\n",
        "\n",
        "  return thresh_week, event"
      ],
      "metadata": {
        "id": "yV6TzYGt5S9f"
      },
      "execution_count": null,
      "outputs": []
    },
    {
      "cell_type": "markdown",
      "source": [
        "### 4. Building Forecast model"
      ],
      "metadata": {
        "id": "O4lCfYBZflqw"
      }
    },
    {
      "cell_type": "markdown",
      "source": [
        "#### Prophet model"
      ],
      "metadata": {
        "id": "H0m4oiroKgyv"
      }
    },
    {
      "cell_type": "code",
      "source": [
        "def build_prophet(df):\n",
        "  '''Build prophet model and generate events for survival modelling.'''\n",
        "  # prepping data for prophet assuming data starts from Jan, 2015\n",
        "  df['ds'] = pd.date_range(start='2015-01-01', periods=len(df))\n",
        "  df['y'] = df.sales\n",
        "  df = df[['ds','y']]\n",
        "\n",
        "  # train/test splits\n",
        "  train = df[:-TEST_DAYS]\n",
        "  test = df[-TEST_DAYS:]\n",
        "  \n",
        "  model = Prophet(daily_seasonality=True)\n",
        "  model.fit(train)\n",
        "  future = model.make_future_dataframe(FORECAST_DAYS, include_history=False)\n",
        "  forecast = model.predict(future)\n",
        "  results = pd.merge(forecast, test, on='ds')\n",
        "\n",
        "  # resample on weeks\n",
        "  results = results.set_index('ds').resample('w').sum().reset_index()\n",
        "  \n",
        "  # generate metric suitable for survival analysis\n",
        "  results_survival = survival_mape_exp(results, WIN_SIZE_WEEKS)\n",
        "\n",
        "  # generate events and censors\n",
        "  thresh_week, event = survival_events(results_survival)\n",
        "\n",
        "       \n",
        "  return pd.DataFrame({'thresh_week':[thresh_week], 'event':[event]})\n",
        "  \n"
      ],
      "metadata": {
        "id": "bIg2US_Ode__"
      },
      "execution_count": null,
      "outputs": []
    },
    {
      "cell_type": "code",
      "source": [],
      "metadata": {
        "id": "Q49EzYziuj9H"
      },
      "execution_count": null,
      "outputs": []
    },
    {
      "cell_type": "markdown",
      "source": [
        "#### For one store"
      ],
      "metadata": {
        "id": "bCtw9Kfvo4qW"
      }
    },
    {
      "cell_type": "code",
      "source": [
        "df = stores[stores.store_id.isin(['CA_1']) & stores.dept_id.isin(['FOODS_1'])].copy()\n",
        " # prepping data for prophet assuming data starts from Jan, 2015\n",
        "df['ds'] = pd.date_range(start='2015-01-01', periods=len(df))\n",
        "df['y'] = df.sales\n",
        "df = df[['ds','y']]\n",
        "\n",
        "# train/test splits\n",
        "train = df[:-TEST_DAYS]\n",
        "test = df[-TEST_DAYS:]\n",
        "\n",
        "model = Prophet(daily_seasonality=True)\n",
        "model.fit(train)\n",
        "future = model.make_future_dataframe(FORECAST_DAYS, include_history=False)\n",
        "forecast = model.predict(future)\n",
        "results = pd.merge(forecast, test, on='ds')\n",
        "\n",
        "# resample on weeks\n",
        "results = results.set_index('ds').resample('w').sum().reset_index()\n",
        "\n",
        "# generate metric suitable for survival analysis\n",
        "results_survival = survival_mape_exp(results, WIN_SIZE_WEEKS)\n",
        "\n",
        "# generate events and censors\n",
        "thresh_week, event = survival_events(results_survival)"
      ],
      "metadata": {
        "id": "4ohPIJF-pBw8"
      },
      "execution_count": null,
      "outputs": []
    },
    {
      "cell_type": "code",
      "source": [
        "results_survival['survival_metric']"
      ],
      "metadata": {
        "colab": {
          "base_uri": "https://localhost:8080/"
        },
        "id": "4f0N9s0Ksh03",
        "outputId": "ffaaa98b-7602-4e87-c185-cd98a971de28"
      },
      "execution_count": null,
      "outputs": [
        {
          "output_type": "execute_result",
          "data": {
            "text/plain": [
              "0           NaN\n",
              "1           NaN\n",
              "2           NaN\n",
              "3      6.679564\n",
              "4      6.181303\n",
              "5      7.179568\n",
              "6      6.223449\n",
              "7      6.413648\n",
              "8      7.373657\n",
              "9      9.477986\n",
              "10     9.705403\n",
              "11     9.741717\n",
              "12    11.401585\n",
              "13    12.716768\n",
              "14    14.113945\n",
              "15    14.385346\n",
              "16    15.403248\n",
              "17    16.736646\n",
              "18    17.317952\n",
              "19    17.539778\n",
              "20    18.403450\n",
              "21    19.615425\n",
              "22    20.378087\n",
              "23    21.335738\n",
              "24    22.673245\n",
              "25    23.292939\n",
              "26    23.528185\n",
              "27    25.142874\n",
              "28    25.377737\n",
              "29    25.680600\n",
              "30    24.881361\n",
              "31    25.497723\n",
              "32    26.656850\n",
              "33    26.837174\n",
              "34    26.546049\n",
              "35    26.657061\n",
              "36    26.988421\n",
              "37    27.543713\n",
              "38    27.428419\n",
              "39    28.068570\n",
              "40    28.240560\n",
              "41    28.064849\n",
              "42    28.177369\n",
              "43    28.278758\n",
              "44    28.096966\n",
              "45    28.676430\n",
              "46    29.273824\n",
              "47    29.798869\n",
              "48    29.784768\n",
              "49    29.546208\n",
              "50    29.390554\n",
              "51    29.355009\n",
              "52    29.301213\n",
              "Name: survival_metric, dtype: float64"
            ]
          },
          "metadata": {},
          "execution_count": 43
        }
      ]
    },
    {
      "cell_type": "code",
      "source": [
        "model.plot(forecast)\n",
        "plt.show()"
      ],
      "metadata": {
        "colab": {
          "base_uri": "https://localhost:8080/",
          "height": 441
        },
        "id": "APNj8wwApBbH",
        "outputId": "0cf7076b-4ad6-4e1b-94c7-11ca9dc8636f"
      },
      "execution_count": null,
      "outputs": [
        {
          "output_type": "display_data",
          "data": {
            "text/plain": [
              "<Figure size 720x432 with 1 Axes>"
            ],
            "image/png": "[encoded data removed]"
          },
          "metadata": {}
        }
      ]
    },
    {
      "cell_type": "code",
      "source": [
        "fig, ax = plt.subplots(nrows=1, ncols=1, figsize=(10,5))\n",
        "ax.plot(np.arange(1,len(results_survival)+1),\\\n",
        "        results_survival.survival_metric.values,\\\n",
        "        color = 'blue', marker = None,linestyle =':')\n",
        "ax.set_ylabel('Expanding window MAPE')\n",
        "ax.set_xticks(np.arange(0,len(results),2))\n",
        "ax.set_yticks(np.arange(0,results.survival_metric.max(),2))\n",
        "plt.axvline(x=STUDY_START_WEEKS, color='green')\n",
        "plt.axvline(x=STUDY_END_WEEKS, color='green')\n",
        "plt.axvline(x=thresh_week, color='red')\n",
        "ax.set_title('Survival analysis design')\n",
        "ax.annotate('study start', xy =(STUDY_START_WEEKS, 24),\n",
        "                xytext =(7, 26), \n",
        "                arrowprops = dict(facecolor ='black',\n",
        "                                  shrink = 0.05),)\n",
        "ax.annotate('study end', xy =(STUDY_END_WEEKS, 26),\n",
        "                xytext =(30, 28), \n",
        "                arrowprops = dict(facecolor ='black',\n",
        "                                  shrink = 0.05),)\n",
        "ax.annotate('event', xy =(thresh_week, 14),\n",
        "                xytext =(15, 17), \n",
        "                arrowprops = dict(facecolor ='black',\n",
        "                                  shrink = 0.05),)\n",
        "plt.show()"
      ],
      "metadata": {
        "colab": {
          "base_uri": "https://localhost:8080/",
          "height": 336
        },
        "id": "JgPpCHh0rntc",
        "outputId": "4d3f2b4d-106b-4025-b0a8-8b3476b0a895"
      },
      "execution_count": null,
      "outputs": [
        {
          "output_type": "display_data",
          "data": {
            "text/plain": [
              "<Figure size 720x360 with 1 Axes>"
            ],
            "image/png": "[encoded data removed]"
          },
          "metadata": {
            "needs_background": "light"
          }
        }
      ]
    },
    {
      "cell_type": "markdown",
      "source": [
        "#### For all stores"
      ],
      "metadata": {
        "id": "cTnAHKr4o-91"
      }
    },
    {
      "cell_type": "code",
      "source": [
        "results = stores.groupby(['dept_id', 'store_id']).apply(build_prophet).reset_index()"
      ],
      "metadata": {
        "id": "cUewlRmTcQpR"
      },
      "execution_count": null,
      "outputs": []
    },
    {
      "cell_type": "markdown",
      "source": [
        "### KM model"
      ],
      "metadata": {
        "id": "QCkTuWROLKic"
      }
    },
    {
      "cell_type": "code",
      "source": [
        "kmf = KaplanMeierFitter()\n",
        "kmf.fit(results.thresh_week, results.event)\n",
        "kmf.survival_function_.plot()\n",
        "f = plt.gcf()\n",
        "plt.axvline(x=4, color='red')\n",
        "plt.axvline(x=8, color='red')\n",
        "plt.axvline(x=10, color='red')\n",
        "\n",
        "plt.show()"
      ],
      "metadata": {
        "id": "vFQ30n9oLOiJ",
        "colab": {
          "base_uri": "https://localhost:8080/",
          "height": 279
        },
        "outputId": "258e3c28-4e63-41d4-df58-64ddbc1ae003"
      },
      "execution_count": null,
      "outputs": [
        {
          "output_type": "display_data",
          "data": {
            "text/plain": [
              "<Figure size 432x288 with 1 Axes>"
            ],
            "image/png": "[encoded data removed]"
          },
          "metadata": {
            "needs_background": "light"
          }
        }
      ]
    },
    {
      "cell_type": "code",
      "source": [
        "# loop over each department type, fit KMF and visualize\n",
        "fig, ax = plt.subplots(1,1,figsize=(10,8))\n",
        "kmf = KaplanMeierFitter()\n",
        "depts = ['HOBBIES', 'FOODS']\n",
        "for dept in depts:\n",
        "  depts_list = [d for d in results.dept_id.unique()\\\n",
        "                 if d.startswith(dept)]\n",
        "  res_depts = results[results.dept_id.isin(depts_list)]\n",
        "  kmf.fit(res_depts.thresh_week[:STUDY_END_WEEKS],\\\n",
        "          res_depts.event[:STUDY_END_WEEKS])\n",
        "  kmf.plot(ax=ax, label = dept, ci_show=False)\n",
        "  ax.legend()\n",
        "  print(dept)\n",
        "  #print(kmf.median_survival_time_)\n",
        "  print(kmf.percentile(0.95))\n",
        "  print('...')\n",
        "  \n",
        "ax.set_ylabel('Survival Probability')\n",
        "ax.set_xlabel('Weeks')\n",
        "ax.set_title('Kaplan Meier Estimator')\n",
        "ax.set_xticks(np.arange(0,STUDY_END_WEEKS,2))\n",
        "plt.show()"
      ],
      "metadata": {
        "id": "Hd2HWWQP0jZd",
        "colab": {
          "base_uri": "https://localhost:8080/",
          "height": 269
        },
        "outputId": "34602ee4-a8d9-4144-a415-f5af959efc85"
      },
      "execution_count": null,
      "outputs": [
        {
          "output_type": "stream",
          "name": "stdout",
          "text": [
            "HOBBIES\n",
            "4.0\n",
            "...\n",
            "FOODS\n",
            "4.0\n",
            "...\n"
          ]
        },
        {
          "output_type": "stream",
          "name": "stderr",
          "text": [
            "/usr/local/lib/python3.7/dist-packages/lifelines/fitters/__init__.py:273: ApproximationWarning: Approximating using `survival_function_`. To increase accuracy, try using or increasing the resolution of the timeline kwarg in `.fit(..., timeline=timeline)`.\n",
            "\n",
            "  exceptions.ApproximationWarning,\n",
            "/usr/local/lib/python3.7/dist-packages/lifelines/fitters/__init__.py:273: ApproximationWarning: Approximating using `survival_function_`. To increase accuracy, try using or increasing the resolution of the timeline kwarg in `.fit(..., timeline=timeline)`.\n",
            "\n",
            "  exceptions.ApproximationWarning,\n"
          ]
        },
        {
          "output_type": "display_data",
          "data": {
            "text/plain": [
              "<Figure size 720x576 with 1 Axes>"
            ],
            "image/png": "[encoded data removed]"
          },
          "metadata": {
            "needs_background": "light"
          }
        }
      ]
    },
    {
      "cell_type": "code",
      "source": [
        "kmf.percentile(0.5)"
      ],
      "metadata": {
        "id": "AoRF_ITL8WEn",
        "colab": {
          "base_uri": "https://localhost:8080/"
        },
        "outputId": "994b9a8d-185b-4232-e242-48ece31df0e0"
      },
      "execution_count": null,
      "outputs": [
        {
          "output_type": "stream",
          "name": "stderr",
          "text": [
            "/usr/local/lib/python3.7/dist-packages/lifelines/fitters/__init__.py:273: ApproximationWarning: Approximating using `survival_function_`. To increase accuracy, try using or increasing the resolution of the timeline kwarg in `.fit(..., timeline=timeline)`.\n",
            "\n",
            "  exceptions.ApproximationWarning,\n"
          ]
        },
        {
          "output_type": "execute_result",
          "data": {
            "text/plain": [
              "5.0"
            ]
          },
          "metadata": {},
          "execution_count": 49
        }
      ]
    },
    {
      "cell_type": "code",
      "source": [],
      "metadata": {
        "id": "XM3sM1CDTP03"
      },
      "execution_count": null,
      "outputs": []
    }
  ]
}